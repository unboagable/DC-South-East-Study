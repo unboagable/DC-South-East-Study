{
 "cells": [
  {
   "cell_type": "code",
   "execution_count": 5,
   "metadata": {},
   "outputs": [
    {
     "name": "stdout",
     "output_type": "stream",
     "text": [
      "Requirement already satisfied: pandas in /Library/Frameworks/Python.framework/Versions/3.10/lib/python3.10/site-packages (from -r ../requirements.txt (line 1)) (1.4.3)\n",
      "Requirement already satisfied: python-dateutil>=2.8.1 in /Library/Frameworks/Python.framework/Versions/3.10/lib/python3.10/site-packages (from pandas->-r ../requirements.txt (line 1)) (2.8.2)\n",
      "Requirement already satisfied: pytz>=2020.1 in /Library/Frameworks/Python.framework/Versions/3.10/lib/python3.10/site-packages (from pandas->-r ../requirements.txt (line 1)) (2022.2.1)\n",
      "Requirement already satisfied: numpy>=1.21.0 in /Library/Frameworks/Python.framework/Versions/3.10/lib/python3.10/site-packages (from pandas->-r ../requirements.txt (line 1)) (1.23.2)\n",
      "Requirement already satisfied: six>=1.5 in /Library/Frameworks/Python.framework/Versions/3.10/lib/python3.10/site-packages (from python-dateutil>=2.8.1->pandas->-r ../requirements.txt (line 1)) (1.16.0)\n",
      "\n",
      "\u001b[1m[\u001b[0m\u001b[34;49mnotice\u001b[0m\u001b[1;39;49m]\u001b[0m\u001b[39;49m A new release of pip is available: \u001b[0m\u001b[31;49m23.2.1\u001b[0m\u001b[39;49m -> \u001b[0m\u001b[32;49m24.1.1\u001b[0m\n",
      "\u001b[1m[\u001b[0m\u001b[34;49mnotice\u001b[0m\u001b[1;39;49m]\u001b[0m\u001b[39;49m To update, run: \u001b[0m\u001b[32;49mpip install --upgrade pip\u001b[0m\n"
     ]
    }
   ],
   "source": [
    "!pip install -r ../requirements.txt"
   ]
  },
  {
   "cell_type": "code",
   "execution_count": 6,
   "metadata": {},
   "outputs": [],
   "source": [
    "FILENAME = '../data/DS4EJ_EJScreen_State_BGLevel_NC_Summarized_By_County.csv'"
   ]
  },
  {
   "cell_type": "code",
   "execution_count": 7,
   "metadata": {},
   "outputs": [
    {
     "name": "stdout",
     "output_type": "stream",
     "text": [
      "                CNTY_NAME  NC_REGION  ACSTOTPOP  PEOPCOLORPCT  LOWINCPCT  \\\n",
      "CNTY_ID                                                                    \n",
      "1         Alamance County   Piedmont     165918     39.008158  36.388339   \n",
      "2        Alexander County   Piedmont      36491     15.217635  36.058442   \n",
      "3        Alleghany County  Mountains      10910     13.066428  46.858227   \n",
      "4            Anson County   Piedmont      22388     54.489861  44.619617   \n",
      "5             Ashe County  Mountains      26598      7.809266  39.644116   \n",
      "\n",
      "         UNEMPPCT  LINGISOPCT  LESSHSPCT  UNDER5PCT  OVER64PCT  ...      RESP  \\\n",
      "CNTY_ID                                                         ...             \n",
      "1        5.577862    2.428052  14.261469   5.335885  17.881630  ...  0.358879   \n",
      "2        3.815951    0.235618  14.413594   5.446380  21.250089  ...  0.300000   \n",
      "3        4.420076    1.324097  20.418284   3.779084  28.420517  ...  0.200000   \n",
      "4        6.640861    0.609626  16.060668   5.092957  19.156437  ...  0.400000   \n",
      "5        4.851628    1.485576  12.927710   3.410702  27.137618  ...  0.200000   \n",
      "\n",
      "            RSEI_AIR      PTRAF  PRE1960PCT      PNPL      PRMP     PTSDF  \\\n",
      "CNTY_ID                                                                     \n",
      "1         329.260039  79.581439   26.270417  0.018464  0.212123  0.360345   \n",
      "2        2024.897148   8.956410   16.822904  0.038142  0.095855  0.155099   \n",
      "3          19.582527   0.563297   14.350053  0.049699  0.042856  0.042243   \n",
      "4         218.429772  29.029611   27.063519  0.044407  0.150193  0.060545   \n",
      "5           5.687992   0.574708   17.534387  0.087524  0.026825  0.252388   \n",
      "\n",
      "              UST    AREALAND  AREAWATER  \n",
      "CNTY_ID                                   \n",
      "1        8.482507  1088695902   27879028  \n",
      "2        0.600286   673358184    9445988  \n",
      "3        0.693611   608220280    3687222  \n",
      "4        1.334159  1376478143   14603213  \n",
      "5        0.907782  1104018852    8062960  \n",
      "\n",
      "[5 rows x 25 columns]\n"
     ]
    }
   ],
   "source": [
    "import pandas as pd\n",
    "\n",
    "df = pd.read_csv(FILENAME, index_col=0, encoding='utf-8')\n",
    "print(df.head(5))"
   ]
  },
  {
   "cell_type": "code",
   "execution_count": null,
   "metadata": {},
   "outputs": [],
   "source": []
  }
 ],
 "metadata": {
  "kernelspec": {
   "display_name": "Python 3",
   "language": "python",
   "name": "python3"
  },
  "language_info": {
   "codemirror_mode": {
    "name": "ipython",
    "version": 3
   },
   "file_extension": ".py",
   "mimetype": "text/x-python",
   "name": "python",
   "nbconvert_exporter": "python",
   "pygments_lexer": "ipython3",
   "version": "3.10.6"
  }
 },
 "nbformat": 4,
 "nbformat_minor": 2
}
